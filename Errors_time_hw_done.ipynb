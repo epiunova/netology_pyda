{
 "cells": [
  {
   "cell_type": "markdown",
   "metadata": {},
   "source": [
    "Задание 1\n",
    "Напишите функцию date_range, которая возвращает список дней между датами start_date и end_date. Даты должны вводиться в формате YYYY-MM-DD."
   ]
  },
  {
   "cell_type": "code",
   "execution_count": 1,
   "metadata": {},
   "outputs": [],
   "source": [
    "from datetime import datetime as dt"
   ]
  },
  {
   "cell_type": "code",
   "execution_count": 9,
   "metadata": {},
   "outputs": [],
   "source": [
    "from datetime import timedelta"
   ]
  },
  {
   "cell_type": "code",
   "execution_count": 85,
   "metadata": {},
   "outputs": [
    {
     "name": "stdout",
     "output_type": "stream",
     "text": [
      "Введите дату начала периода в формате YYYY-MM-DD 2020-01-03\n",
      "Введите дату окончания периода в формате YYYY-MM-DD 2020-01-06\n",
      "2020-01-03\n",
      "2020-01-04\n",
      "2020-01-05\n",
      "2020-01-06\n"
     ]
    }
   ],
   "source": [
    "def date_range():\n",
    "    start_date = input('Введите дату начала периода в формате YYYY-MM-DD ')\n",
    "    end_date = input('Введите дату окончания периода в формате YYYY-MM-DD ')\n",
    "\n",
    "    start_date_dt = dt.strptime(start_date, '%Y-%m-%d')\n",
    "    end_date_dt = dt.strptime(end_date, '%Y-%m-%d')\n",
    "\n",
    "    current_date_dt = start_date_dt\n",
    "\n",
    "    while current_date_dt.strftime('%Y-%m-%d') <= end_date:\n",
    "        result = print(current_date_dt.strftime('%Y-%m-%d'))\n",
    "        current_date_dt += timedelta(days=1) \n",
    "    return result   \n",
    "date_range()        "
   ]
  },
  {
   "cell_type": "markdown",
   "metadata": {},
   "source": [
    "Задание 2\n",
    "Дополните функцию из первого задания проверкой на корректность дат. В случае неверного формата или если start_date > end_date должен возвращаться пустой список."
   ]
  },
  {
   "cell_type": "code",
   "execution_count": 104,
   "metadata": {},
   "outputs": [
    {
     "name": "stdout",
     "output_type": "stream",
     "text": [
      "Введите дату начала периода в формате YYYY-MM-DD 1235346\n",
      "Введите дату окончания периода в формате YYYY-MM-DD 3369847-\n",
      "[]\n"
     ]
    }
   ],
   "source": [
    "def date_range():\n",
    "    start_date = input('Введите дату начала периода в формате YYYY-MM-DD ')\n",
    "    end_date = input('Введите дату окончания периода в формате YYYY-MM-DD ')\n",
    "    if start_date > end_date:\n",
    "        result = print('[]')\n",
    "        return result\n",
    "    try:\n",
    "        start_date_dt = dt.strptime(start_date, '%Y-%m-%d')\n",
    "        end_date_dt = dt.strptime(end_date, '%Y-%m-%d')\n",
    "        \n",
    "        current_date_dt = start_date_dt\n",
    "        \n",
    "        while current_date_dt.strftime('%Y-%m-%d') <= end_date:\n",
    "            result = print(current_date_dt.strftime('%Y-%m-%d'))\n",
    "            current_date_dt += timedelta(days=1)\n",
    "        return result    \n",
    "    except:\n",
    "        result = print('[]')\n",
    "        return result\n",
    "    \n",
    "date_range()        "
   ]
  },
  {
   "cell_type": "markdown",
   "metadata": {},
   "source": [
    "Задание 3\n",
    "Дан поток дат в формате YYYY-MM-DD, в которых встречаются некорректные значения:\n",
    "stream = [‘2018-04-02’, ‘2018-02-29’, ‘2018-19-02’]\n",
    "\n",
    "Напишите функцию, которая проверяет эти даты на корректность. Т. е. для каждой даты возвращает True (дата корректна) или False (некорректная дата)."
   ]
  },
  {
   "cell_type": "code",
   "execution_count": 84,
   "metadata": {},
   "outputs": [
    {
     "name": "stdout",
     "output_type": "stream",
     "text": [
      "True\n",
      "False\n",
      "False\n"
     ]
    }
   ],
   "source": [
    "def correct_date():\n",
    "    stream = ['2018-04-02', '2018-02-29', '2018-19-02']\n",
    "    for date_list in stream:\n",
    "        try:\n",
    "            date_check = dt.strptime(date_list,'%Y-%m-%d')\n",
    "            result = print('True')\n",
    "        except:\n",
    "            result = print('False')\n",
    "    return result\n",
    "correct_date()"
   ]
  }
 ],
 "metadata": {
  "kernelspec": {
   "display_name": "Python 3",
   "language": "python",
   "name": "python3"
  },
  "language_info": {
   "codemirror_mode": {
    "name": "ipython",
    "version": 3
   },
   "file_extension": ".py",
   "mimetype": "text/x-python",
   "name": "python",
   "nbconvert_exporter": "python",
   "pygments_lexer": "ipython3",
   "version": "3.7.4"
  }
 },
 "nbformat": 4,
 "nbformat_minor": 2
}
