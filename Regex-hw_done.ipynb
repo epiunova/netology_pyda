{
 "cells": [
  {
   "cell_type": "markdown",
   "metadata": {},
   "source": [
    "# Домашнее задание к лекции \"Регулярные выражения\"\n",
    "Для зачета необходимо выполнить 4 задания.  \n",
    "Для зачета с отличием – все."
   ]
  },
  {
   "cell_type": "markdown",
   "metadata": {},
   "source": [
    "## Задание 1"
   ]
  },
  {
   "cell_type": "markdown",
   "metadata": {},
   "source": [
    "Напишите функцию, которая принимает на вход строку и проверяет является ли она валидным транспортным номером. Если да, то функция должна возвращать отдельно номер и регион."
   ]
  },
  {
   "cell_type": "code",
   "execution_count": 100,
   "metadata": {},
   "outputs": [],
   "source": [
    "import re"
   ]
  },
  {
   "cell_type": "code",
   "execution_count": 101,
   "metadata": {},
   "outputs": [
    {
     "name": "stdout",
     "output_type": "stream",
     "text": [
      "Введите номер для проверки (буквы - заглавные латинские) A456OP99\n",
      "Номер транспортного средства - 456 Регион - 99\n",
      "[('A', '456', 'OP', '', '99')]\n"
     ]
    }
   ],
   "source": [
    "#Регулярное выражение не всегда правильно учитывает количество цифр в номере для номеров посольств.И сложность с \n",
    "#двузначными и трехзначными номерами регионов при выводе предстоящего перед ним номера.\n",
    "auto_number = input('Введите номер для проверки (буквы - заглавные латинские) ')\n",
    "regex_number = '([A,B,E,K,M,H,O,P,C,T,Y,X]{0,3})(\\d{2,4})([A,B,E,K,M,H,O,P,C,T,Y,X,D,CC,CD]{0,2})(\\d{0,4})(\\d{2}$)'\n",
    "regexp_result = re.findall(regex_number,auto_number)\n",
    "if re.match(regex_number,auto_number):\n",
    "    if regexp_result[0][2] == (('CD')or('CC')or('D')or('T')):\n",
    "        print('Номер транспортного средства -',regexp_result[0][3],'Регион -',regexp_result[0][-1])\n",
    "    else:\n",
    "        print('Номер транспортного средства -',regexp_result[0][1],'Регион -',regexp_result[0][-1])\n",
    "else:\n",
    "    print('Введите номер еще раз')\n",
    "\n",
    "print(regexp_result)"
   ]
  },
  {
   "cell_type": "markdown",
   "metadata": {},
   "source": [
    "## Задание 2"
   ]
  },
  {
   "cell_type": "markdown",
   "metadata": {},
   "source": [
    "Напишите функцию, которая проверяет e-mail адрес на валидность по стандарту RFC822: http://www.w3.org/Protocols/rfc822/. Для этого постарайтесь написать (в крайнем случае найти) самый полный шаблон для проверки e-mail адресов через регулярное выражение. Разберитесь и напишите примеры, какие ваш шаблон может не охватить."
   ]
  },
  {
   "cell_type": "code",
   "execution_count": 128,
   "metadata": {},
   "outputs": [
    {
     "name": "stdout",
     "output_type": "stream",
     "text": [
      "Введите адрес электронной почты #!$%&'*+-/=?^_`{}|~@example.org\n",
      "Введите адрес электронной почты еще раз\n"
     ]
    }
   ],
   "source": [
    "#Проверка адреса электронной почты на валидность\n",
    "email_adress = input('Введите адрес электронной почты ')\n",
    "find_correct_email = '[A-Za-z0-9.#!$&|_%+-~\"()]+@[A-Za-z0-9.-]+\\.[A-Za-z]{2,6}'\n",
    "email_ = re.findall(find_correct_email,email_adress)\n",
    "if re.match(find_correct_email,email_adress):\n",
    "    print('Адрес электронной почты проверку прошел')\n",
    "else:\n",
    "    print('Введите адрес электронной почты еще раз')\n",
    "#Могут не пройти проверку адреса с апострофом (до знака @); со знаком ^ и * ;с количеством знаков в имени домена более 6."
   ]
  },
  {
   "cell_type": "markdown",
   "metadata": {},
   "source": [
    "## Задание 3\n",
    "Напишите функцию, которая будет удалять все последовательные повторы слов из заданной строки."
   ]
  },
  {
   "cell_type": "code",
   "execution_count": 102,
   "metadata": {},
   "outputs": [
    {
     "name": "stdout",
     "output_type": "stream",
     "text": [
      "Введите текст шли весело весело по дороге к к дому\n",
      "шли весело по дороге к дому\n"
     ]
    }
   ],
   "source": [
    "s = input ('Введите текст ')\n",
    "#Поиск слова, которое встречается 2 раза подряд в тексте, замена на одно слово и игнорирование регистра.\n",
    "print( re.sub(r'([([а-яА-Я]+)\\s+\\1', r'\\1',s,flags = re.I) )  "
   ]
  },
  {
   "cell_type": "markdown",
   "metadata": {},
   "source": [
    "## Задание 4\n",
    "Напишите функцию, которая будет проверять номер сотового телефона на валидность, если он валиден, то переводить его в формат:   \n",
    "+7(xxx)-xxx-xx-xx  \n",
    "Постарайтесь предусмотреть как можно больше адекватных форматов изначального ввода номера.\n",
    "Примеры правильных и неправильных форматов:\n",
    "- +7 955 555-55-55;\n",
    "- 955555555;\n",
    "- 8(955)555-55-55;\n",
    "- +7 955 555 55 55;\n",
    "- 7(955) 555-55-55;\n",
    "- +7 955+555+55+55."
   ]
  },
  {
   "cell_type": "code",
   "execution_count": 258,
   "metadata": {},
   "outputs": [
    {
     "name": "stdout",
     "output_type": "stream",
     "text": [
      "Введите номер телефона +7 955+555+55+55\n"
     ]
    }
   ],
   "source": [
    "Tel_number = input('Введите номер телефона ')"
   ]
  },
  {
   "cell_type": "code",
   "execution_count": 259,
   "metadata": {},
   "outputs": [
    {
     "name": "stdout",
     "output_type": "stream",
     "text": [
      "+7(955) 555-55-55\n"
     ]
    }
   ],
   "source": [
    "Tel_search = '^(\\W*(8|7|\\+7)[\\-+ ]?)?\\(?(\\d{3})\\)?[\\-+ ]?(\\d{1})[\\-+ ]?(\\d{1})[\\-+ ]?(\\d{1})[\\-+ ]?(\\d{1})[\\-+ ]?(\\d{1})\\\n",
    "[\\-+ ]?(\\d{1})[\\-+ ]?(\\d{1})$'\n",
    "Tel_ = re.findall(Tel_search,Tel_number)\n",
    "print('+7','(',Tel_[0][2],')',' ',Tel_[0][3],Tel_[0][4],Tel_[0][5],'-',Tel_[0][6],Tel_[0][7],'-',Tel_[0][8],Tel_[0][9],sep='')"
   ]
  }
 ],
 "metadata": {
  "kernelspec": {
   "display_name": "Python 3",
   "language": "python",
   "name": "python3"
  },
  "language_info": {
   "codemirror_mode": {
    "name": "ipython",
    "version": 3
   },
   "file_extension": ".py",
   "mimetype": "text/x-python",
   "name": "python",
   "nbconvert_exporter": "python",
   "pygments_lexer": "ipython3",
   "version": "3.7.4"
  }
 },
 "nbformat": 4,
 "nbformat_minor": 2
}
