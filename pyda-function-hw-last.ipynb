{
 "cells": [
  {
   "cell_type": "code",
   "execution_count": 1,
   "metadata": {},
   "outputs": [],
   "source": [
    "documents = [\n",
    "    {'type': 'passport', 'number': '2207 876234', 'name': 'Василий Гупкин'},\n",
    "    {'type': 'invoice', 'number': '11-2', 'name': 'Геннадий Покемонов'},\n",
    "    {'type': 'insurance', 'number': '10006', 'name': 'Аристарх Павлов'}\n",
    "]"
   ]
  },
  {
   "cell_type": "code",
   "execution_count": 2,
   "metadata": {},
   "outputs": [],
   "source": [
    "directories = {\n",
    "    '1': ['2207 876234', '11-2', '5455 028765'],\n",
    "    '2': ['10006', '5400 028765', '5455 002299'],\n",
    "    '3': []\n",
    "}"
   ]
  },
  {
   "cell_type": "code",
   "execution_count": 7,
   "metadata": {},
   "outputs": [
    {
     "name": "stdout",
     "output_type": "stream",
     "text": [
      "Введите номер документа 222\n",
      "Документа с таким номером не существует\n"
     ]
    }
   ],
   "source": [
    "#Функция поиска сотрудника по номеру документа\n",
    "def people():\n",
    "    #создаю пустой список для подсчета в нем количества не найденных номеров документов\n",
    "    not_found_list = []\n",
    "    i = input('Введите номер документа ')\n",
    "    for doc_lists in documents:\n",
    "        #проверка каждого документа по его номеру\n",
    "        if (doc_lists.get('number')) == i:\n",
    "            result = print('Владелец документа -',doc_lists['name'])\n",
    "            break\n",
    "            return result\n",
    "        #если номер не найден, то пополняется список\n",
    "        else: not_found_list.append('Not Found')\n",
    "        #проверка условия для вывода сообщения о несуществующем введенном номере документа на экран\n",
    "        if(len(not_found_list)) == len(documents):\n",
    "            result = print('Документа с таким номером не существует')\n",
    "            return result\n",
    "people()"
   ]
  },
  {
   "cell_type": "code",
   "execution_count": 8,
   "metadata": {},
   "outputs": [
    {
     "name": "stdout",
     "output_type": "stream",
     "text": [
      "Введите номер документа 222\n",
      "Документа с таким номером не существует\n"
     ]
    }
   ],
   "source": [
    "#Функция поска номера полки по номеру документа\n",
    "def shelf(): \n",
    "    #Создаю счетчик для количества документов на всех полках\n",
    "    count_doc_per_shelves = 0\n",
    "    #создаю пустой список для подсчета в нем количества не найденных номеров документов\n",
    "    not_found_list_2 = []\n",
    "    i = input('Введите номер документа ')             \n",
    "    for keys,shelves in directories.items():\n",
    "        #Веду подсчет количества документов на полке\n",
    "        count_doc_per_shelves = count_doc_per_shelves + len(shelves)\n",
    "        for numbers in shelves:\n",
    "            if numbers == i:\n",
    "                result = print('Номер полки -',keys)\n",
    "                break\n",
    "                return result\n",
    "            #если номер не найден, то пополняется список\n",
    "            else: not_found_list_2.append('Not Found')\n",
    "    #проверка условия для вывода сообщения о несуществующем введенном номере документа на экран            \n",
    "    if (len(not_found_list_2)) == count_doc_per_shelves:\n",
    "        result = print('Документа с таким номером не существует')\n",
    "        return result\n",
    "shelf()    "
   ]
  },
  {
   "cell_type": "code",
   "execution_count": 9,
   "metadata": {},
   "outputs": [
    {
     "name": "stdout",
     "output_type": "stream",
     "text": [
      "\u001b[1mpassport \"2207 876234\" \"Василий Гупкин\"\n",
      "\u001b[1minvoice \"11-2\" \"Геннадий Покемонов\"\n",
      "\u001b[1minsurance \"10006\" \"Аристарх Павлов\"\n"
     ]
    }
   ],
   "source": [
    "#Функция вывода на экран списка всех документов в определенном формате\n",
    "def list():\n",
    "    for documents_list in documents:\n",
    "        result = print('\\033[1m' + documents_list['type'],' \"',documents_list['number'],'\" \"',documents_list['name'],'\"',sep = \"\")\n",
    "    return result     \n",
    "list()            "
   ]
  },
  {
   "cell_type": "code",
   "execution_count": 10,
   "metadata": {},
   "outputs": [
    {
     "name": "stdout",
     "output_type": "stream",
     "text": [
      "Введите номер новой полки 2\n",
      "Такой номер полки уже существует\n"
     ]
    }
   ],
   "source": [
    "#Функция добавления новой полки\n",
    "def add_shelf():\n",
    "    shelf_number = input('Введите номер новой полки ')\n",
    "    if shelf_number  in directories.keys():\n",
    "        result = print('Такой номер полки уже существует')\n",
    "        return result\n",
    "    else: \n",
    "        print('Добавляю новый ключ')\n",
    "        directories[shelf_number] = []\n",
    "        result = print('Полка №',shelf_number,'добавлена')\n",
    "        return result\n",
    "add_shelf()       "
   ]
  },
  {
   "cell_type": "code",
   "execution_count": 29,
   "metadata": {},
   "outputs": [
    {
     "name": "stdout",
     "output_type": "stream",
     "text": [
      "Введите номер документа 222\n",
      "Документа с таким номером не существует в каталоге\n"
     ]
    }
   ],
   "source": [
    "#Функция удаления номера документа из списка Documents\n",
    "def people_del():\n",
    "    #создаю пустой список для подсчета в нем количества не найденных номеров документов\n",
    "    not_found_list = []\n",
    "    i = input('Введите номер документа ')\n",
    "    for doc_lists in documents:\n",
    "        #проверка каждого документа по его номеру\n",
    "        if doc_lists.get('number') == i:\n",
    "            #удаление номера из словаря\n",
    "            del(doc_lists['number'])\n",
    "            result = print('Номер документа',i,'удален ')\n",
    "            #print(documents)\n",
    "            break\n",
    "            return result\n",
    "        #если номер не найден, то пополняется список\n",
    "        else: not_found_list.append('Not Found')\n",
    "        #проверка условия для вывода сообщения о несуществующем введенном номере документа на экран\n",
    "        if(len(not_found_list)) == len(documents):\n",
    "            result = print('Документа с таким номером не существует в каталоге')\n",
    "            return result\n",
    "people_del()"
   ]
  },
  {
   "cell_type": "code",
   "execution_count": 30,
   "metadata": {},
   "outputs": [
    {
     "name": "stdout",
     "output_type": "stream",
     "text": [
      "Введите номер документа 222\n",
      "Документа с таким номером не существует в перечне полок\n"
     ]
    }
   ],
   "source": [
    "#Функция поска номера полки по номеру документа\n",
    "def shelf_del(): \n",
    "    #Создаю счетчик для количества документов на всех полках\n",
    "    count_doc_per_shelves = 0\n",
    "    #создаю пустой список для подсчета в нем количества не найденных номеров документов\n",
    "    not_found_list_2 = []\n",
    "    i = input('Введите номер документа ')             \n",
    "    for keys,shelves in directories.items():\n",
    "        #Веду подсчет количества документов на полке\n",
    "        count_doc_per_shelves = count_doc_per_shelves + len(shelves)\n",
    "        for numbers in shelves:\n",
    "            if numbers == i:\n",
    "                shelves.remove(i)\n",
    "                result = print('Номер документа ',i,'удален из перечня полок')\n",
    "                break\n",
    "                return result\n",
    "            #если номер не найден, то пополняется список\n",
    "            else: not_found_list_2.append('Not Found')\n",
    "    #проверка условия для вывода сообщения о несуществующем введенном номере документа на экран            \n",
    "    if (len(not_found_list_2)) == count_doc_per_shelves:\n",
    "        result = print('Документа с таким номером не существует в перечне полок')\n",
    "        return result\n",
    "shelf_del()"
   ]
  },
  {
   "cell_type": "code",
   "execution_count": 31,
   "metadata": {},
   "outputs": [
    {
     "name": "stdout",
     "output_type": "stream",
     "text": [
      "Введите номер документа 222\n",
      "Документа с таким номером не существует в каталоге\n",
      "Введите номер документа 222\n",
      "Документа с таким номером не существует в перечне полок\n"
     ]
    }
   ],
   "source": [
    "#Функция удаления документа из каталога и из перечня полок\n",
    "def delete():\n",
    "    people_del()\n",
    "    shelf_del()\n",
    "delete()"
   ]
  },
  {
   "cell_type": "code",
   "execution_count": 33,
   "metadata": {},
   "outputs": [
    {
     "name": "stdout",
     "output_type": "stream",
     "text": [
      "Введите команду l\n",
      "\u001b[1mpassport \"2207 876234\" \"Василий Гупкин\"\n",
      "\u001b[1minvoice \"11-2\" \"Геннадий Покемонов\"\n",
      "\u001b[1minsurance \"10006\" \"Аристарх Павлов\"\n"
     ]
    }
   ],
   "source": [
    "print_letter = input('Введите команду ')\n",
    "if print_letter == 'p':\n",
    "    people()\n",
    "elif print_letter == 's':\n",
    "    shelf()    \n",
    "elif print_letter == 'l':\n",
    "    list()\n",
    "elif print_letter == 'as':\n",
    "    add_shelf()\n",
    "elif print_letter == 'd':\n",
    "    delete()"
   ]
  }
 ],
 "metadata": {
  "kernelspec": {
   "display_name": "Python 3",
   "language": "python",
   "name": "python3"
  },
  "language_info": {
   "codemirror_mode": {
    "name": "ipython",
    "version": 3
   },
   "file_extension": ".py",
   "mimetype": "text/x-python",
   "name": "python",
   "nbconvert_exporter": "python",
   "pygments_lexer": "ipython3",
   "version": "3.7.4"
  }
 },
 "nbformat": 4,
 "nbformat_minor": 2
}
